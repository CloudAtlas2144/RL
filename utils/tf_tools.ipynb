{
 "cells": [
  {
   "cell_type": "markdown",
   "metadata": {},
   "source": [
    "# Tensorflow Classes for U3 Project"
   ]
  },
  {
   "cell_type": "code",
   "execution_count": null,
   "metadata": {},
   "outputs": [],
   "source": [
    "import tensorflow as tf\n",
    "from tensorflow import keras"
   ]
  },
  {
   "cell_type": "code",
   "execution_count": null,
   "metadata": {},
   "outputs": [],
   "source": [
    "model = keras.models.Model()\n",
    "optimizer = keras.optimizers.Adam()"
   ]
  },
  {
   "cell_type": "markdown",
   "metadata": {},
   "source": [
    "## Model checkpoints"
   ]
  },
  {
   "cell_type": "code",
   "execution_count": null,
   "metadata": {},
   "outputs": [],
   "source": [
    "# Creating a checkpoint :\n",
    "checkpoint = tf.train.Checkpoint(model=model, optimizer=optimizer)\n",
    "\n",
    "# Saving a checkpoint :\n",
    "save_path = checkpoint.save('/pwd/')\n",
    "\n",
    "# Restore the checkpointed values to the `model` object.\n",
    "checkpoint.restore(save_path)"
   ]
  }
 ],
 "metadata": {
  "kernelspec": {
   "display_name": "mlp2",
   "language": "python",
   "name": "python3"
  },
  "language_info": {
   "name": "python",
   "version": "3.11.3"
  }
 },
 "nbformat": 4,
 "nbformat_minor": 2
}

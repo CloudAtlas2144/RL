{
  "cells": [
    {
      "cell_type": "markdown",
      "metadata": {
        "id": "8TT3LPGc5PuK"
      },
      "source": [
        "\n",
        "\n",
        "<p><img height=\"80px\" src=\"https://www.upm.es/sfs/Rectorado/Gabinete%20del%20Rector/Logos/UPM/Escudo/EscUpm.jpg\" align=\"left\" hspace=\"0px\" vspace=\"0px\"></p>\n",
        "\n",
        "**Course \"Artificial Neural Networks and Deep Learning\" - Universidad Politécnica de Madrid (UPM)**\n",
        "\n",
        "# **Deep Q-Learning for Cartpole**\n",
        "\n",
        "This notebook includes an implementation of the Deep Q-learning (DQN) algorithm for the cartpole problem (see [Cartpole documentation](https://gymnasium.farama.org/environments/classic_control/cart_pole/)).\n"
      ]
    },
    {
      "cell_type": "markdown",
      "metadata": {
        "id": "JXBzOdaLAEUn"
      },
      "source": [
        "##Libraries"
      ]
    },
    {
      "cell_type": "code",
      "execution_count": 42,
      "metadata": {
        "colab": {
          "base_uri": "https://localhost:8080/"
        },
        "id": "LjLS1WetFhCE",
        "outputId": "0a4dc719-9cc7-4cd2-be7b-04716a4dd123"
      },
      "outputs": [],
      "source": [
        "from tensorflow import keras\n",
        "import gymnasium as gym\n",
        "import numpy as np\n",
        "import matplotlib.pyplot as plt\n",
        "import time\n",
        "import random\n",
        "import math"
      ]
    },
    {
      "cell_type": "markdown",
      "metadata": {
        "id": "nBrRuhN1AQ-s"
      },
      "source": [
        "## Hyperparameters"
      ]
    },
    {
      "cell_type": "code",
      "execution_count": 43,
      "metadata": {
        "id": "4N2yVwtuFlBu"
      },
      "outputs": [],
      "source": [
        "GAMMA = 0.99\n",
        "MEMORY_SIZE = 100000\n",
        "LEARNING_RATE = 0.001\n",
        "BATCH_SIZE = 32\n",
        "EXPLORATION_MAX = 1\n",
        "EXPLORATION_MIN = 0.01\n",
        "EXPLORATION_DECAY = 0.995\n",
        "NUMBER_OF_EPISODES_FOR_TRAINING = 2\n",
        "NUMBER_OF_EPISODES_FOR_TESTING = 20"
      ]
    },
    {
      "cell_type": "markdown",
      "metadata": {
        "id": "OoGaas6TAd6p"
      },
      "source": [
        "## Class ReplayMemory\n",
        "\n",
        "Memory of transitions for experience replay."
      ]
    },
    {
      "cell_type": "code",
      "execution_count": 44,
      "metadata": {
        "id": "cQV7IfhFOoSh"
      },
      "outputs": [],
      "source": [
        "class ReplayMemory:\n",
        "\n",
        "    def __init__(self,number_of_observations):\n",
        "        # Create replay memory\n",
        "        self.states = np.zeros((MEMORY_SIZE, number_of_observations))\n",
        "        self.states_next = np.zeros((MEMORY_SIZE, number_of_observations))\n",
        "        self.actions = np.zeros(MEMORY_SIZE, dtype=np.int32)\n",
        "        self.rewards = np.zeros(MEMORY_SIZE)\n",
        "        self.terminal_states = np.zeros(MEMORY_SIZE, dtype=bool)\n",
        "        self.current_size=0\n",
        "\n",
        "    def store_transition(self, state, action, reward, state_next, terminal_state):\n",
        "        # Store a transition (s,a,r,s') in the replay memory\n",
        "        i = self.current_size\n",
        "        self.states[i] = state\n",
        "        self.states_next[i] = state_next\n",
        "        self.actions[i] = action\n",
        "        self.rewards[i] = reward\n",
        "        self.terminal_states[i] = terminal_state\n",
        "        self.current_size = i + 1\n",
        "\n",
        "    def sample_memory(self, batch_size):\n",
        "        # Generate a sample of transitions from the replay memory\n",
        "        batch = np.random.choice(self.current_size, batch_size)\n",
        "        states = self.states[batch]\n",
        "        states_next = self.states_next[batch]\n",
        "        rewards = self.rewards[batch]\n",
        "        actions = self.actions[batch]\n",
        "        terminal_states = self.terminal_states[batch]\n",
        "        return states, actions, rewards, states_next, terminal_states"
      ]
    },
    {
      "cell_type": "markdown",
      "metadata": {
        "id": "gejKO0OYAsS4"
      },
      "source": [
        "## Class DQN\n",
        "\n",
        "Reinforcement learning agent with a Deep Q-Network."
      ]
    },
    {
      "cell_type": "code",
      "execution_count": 45,
      "metadata": {
        "id": "NZ6P4Gj0FtnU"
      },
      "outputs": [],
      "source": [
        "class DQN:\n",
        "\n",
        "    def __init__(self, number_of_observations, number_of_actions):\n",
        "        # Initialize variables and create neural model\n",
        "        self.exploration_rate = EXPLORATION_MAX\n",
        "        self.number_of_actions = number_of_actions\n",
        "        self.number_of_observations = number_of_observations\n",
        "        self.scores = []\n",
        "        self.memory = ReplayMemory(number_of_observations)\n",
        "        self.model = keras.models.Sequential()\n",
        "        self.model.add(keras.layers.Dense(24, input_shape=(number_of_observations,), \\\n",
        "                             activation=\"relu\",kernel_initializer=\"he_normal\"))\n",
        "        self.model.add(keras.layers.Dense(24, activation=\"relu\",kernel_initializer=\"he_normal\"))\n",
        "        self.model.add(keras.layers.Dense(number_of_actions, activation=\"linear\"))\n",
        "        self.model.compile(loss=\"mse\", optimizer=keras.optimizers.Adam(learning_rate=LEARNING_RATE))\n",
        "\n",
        "    def remember(self, state, action, reward, next_state, terminal_state):\n",
        "        # Store a tuple (s, a, r, s') for experience replay\n",
        "        print(\"state1: \", state.shape)\n",
        "        state = np.reshape(state, [1, self.number_of_observations])\n",
        "        print(\"state2: \", state.shape)\n",
        "        next_state = np.reshape(next_state, [1, self.number_of_observations])\n",
        "        self.memory.store_transition(state, action, reward, next_state, terminal_state)\n",
        "\n",
        "    def select(self, state):\n",
        "        # Generate an action for a given state using epsilon-greedy policy\n",
        "        if np.random.rand() < self.exploration_rate:\n",
        "            return random.randrange(self.number_of_actions)\n",
        "        else:\n",
        "            state = np.reshape(state, [1, self.number_of_observations])\n",
        "            print(\"state: \", state)\n",
        "            q_values = self.model.predict(state, verbose=0)\n",
        "            return np.argmax(q_values[0])\n",
        "\n",
        "    def select_greedy_policy(self, state):\n",
        "        # Generate an action for a given state using greedy policy\n",
        "        state = np.reshape(state, [1, self.number_of_observations])\n",
        "        q_values = self.model.predict(state, verbose=0)\n",
        "        return np.argmax(q_values[0])\n",
        "\n",
        "    def learn(self):\n",
        "        # Learn the value Q using a sample of examples from the replay memory\n",
        "        if self.memory.current_size < BATCH_SIZE: return\n",
        "\n",
        "        states, actions, rewards, next_states, terminal_states = self.memory.sample_memory(BATCH_SIZE)\n",
        "\n",
        "        q_targets = self.model.predict(states, verbose=0)\n",
        "        q_next_states = self.model.predict(next_states, verbose=0)\n",
        "\n",
        "        for i in range(BATCH_SIZE):\n",
        "             if (terminal_states[i]):\n",
        "                  q_targets[i][actions[i]] = rewards[i]\n",
        "             else:\n",
        "                  q_targets[i][actions[i]] = rewards[i] + GAMMA * np.max(q_next_states[i])\n",
        "\n",
        "        self.model.train_on_batch(states, q_targets)\n",
        "\n",
        "        # Decrease exploration rate\n",
        "        self.exploration_rate *= EXPLORATION_DECAY\n",
        "        self.exploration_rate = max(EXPLORATION_MIN, self.exploration_rate)\n",
        "\n",
        "    def add_score(self, score):\n",
        "       # Add the obtained score to a list to be presented later\n",
        "        self.scores.append(score)\n",
        "\n",
        "    def delete_scores(self):\n",
        "       # Delete the scores\n",
        "        self.scores = []\n",
        "\n",
        "    def display_scores_graphically(self):\n",
        "        # Display the obtained scores graphically\n",
        "        plt.plot(self.scores)\n",
        "        plt.xlabel(\"Episode\")\n",
        "        plt.ylabel(\"Score\")"
      ]
    },
    {
      "cell_type": "markdown",
      "metadata": {
        "id": "d-YSpziT0K9I"
      },
      "source": [
        "## Environment Cartpole\n",
        "\n",
        "<p><img height=\"200px\" src=\"https://raw.githubusercontent.com/martin-molina/reinforcement_learning/main/images/cartpole_attributes.png\" align=\"center\" vspace=\"20px\"</p>\n",
        "\n",
        "State vector:\n",
        "- state[0]: cart position\n",
        "- state[1]: cart velocity\n",
        "- state[2]: pole angle\n",
        "- state[3]: pole angular velocity\n",
        "\n",
        "Actions:\n",
        "- 0 (push cart to the left)\n",
        "- 1 (push cart to the right)"
      ]
    },
    {
      "cell_type": "code",
      "execution_count": 46,
      "metadata": {
        "id": "4LBloUSG0LmT"
      },
      "outputs": [],
      "source": [
        "def create_environment():\n",
        "    # Create simulated environment\n",
        "    environment = gym.make(\"CartPole-v1\")\n",
        "    number_of_observations = environment.observation_space.shape[0]\n",
        "    print(\"Number of observations: \", number_of_observations)\n",
        "    number_of_actions = environment.action_space.n\n",
        "    return environment, number_of_observations, number_of_actions"
      ]
    },
    {
      "cell_type": "markdown",
      "metadata": {
        "id": "hbbw6blhDcsJ"
      },
      "source": [
        "## Training program\n",
        "\n",
        "\n"
      ]
    },
    {
      "cell_type": "code",
      "execution_count": 47,
      "metadata": {
        "colab": {
          "base_uri": "https://localhost:8080/",
          "height": 1000
        },
        "id": "yuzI0m5u5vVf",
        "outputId": "a7872c2c-0cfd-4979-ee43-14ce73a48b7d"
      },
      "outputs": [
        {
          "name": "stdout",
          "output_type": "stream",
          "text": [
            "Number of observations:  4\n",
            "state:  [ 0.00535981  0.0146284  -0.01817121  0.04526414]\n",
            "state1:  (4,)\n",
            "state2:  (1, 4)\n",
            "state1:  (4,)\n",
            "state2:  (1, 4)\n",
            "state1:  (4,)\n",
            "state2:  (1, 4)\n",
            "state1:  (4,)\n",
            "state2:  (1, 4)\n",
            "state1:  (4,)\n",
            "state2:  (1, 4)\n",
            "state1:  (4,)\n",
            "state2:  (1, 4)\n",
            "state1:  (4,)\n",
            "state2:  (1, 4)\n",
            "state1:  (4,)\n",
            "state2:  (1, 4)\n",
            "state1:  (4,)\n",
            "state2:  (1, 4)\n",
            "state1:  (4,)\n",
            "state2:  (1, 4)\n",
            "state1:  (4,)\n",
            "state2:  (1, 4)\n",
            "state1:  (4,)\n",
            "state2:  (1, 4)\n",
            "state1:  (4,)\n",
            "state2:  (1, 4)\n",
            "state1:  (4,)\n",
            "state2:  (1, 4)\n",
            "state1:  (4,)\n",
            "state2:  (1, 4)\n",
            "state1:  (4,)\n",
            "state2:  (1, 4)\n",
            "state1:  (4,)\n",
            "state2:  (1, 4)\n",
            "Episode   1: score  17 (exploration rate: 1.00, transitions: 17)\n",
            "state:  [ 0.02293179 -0.02386864 -0.0007239   0.02262121]\n",
            "state1:  (4,)\n",
            "state2:  (1, 4)\n",
            "state1:  (4,)\n",
            "state2:  (1, 4)\n",
            "state1:  (4,)\n",
            "state2:  (1, 4)\n",
            "state1:  (4,)\n",
            "state2:  (1, 4)\n",
            "state1:  (4,)\n",
            "state2:  (1, 4)\n",
            "state1:  (4,)\n",
            "state2:  (1, 4)\n",
            "state1:  (4,)\n",
            "state2:  (1, 4)\n",
            "state1:  (4,)\n",
            "state2:  (1, 4)\n",
            "state1:  (4,)\n",
            "state2:  (1, 4)\n",
            "state1:  (4,)\n",
            "state2:  (1, 4)\n",
            "state1:  (4,)\n",
            "state2:  (1, 4)\n",
            "state1:  (4,)\n",
            "state2:  (1, 4)\n",
            "state1:  (4,)\n",
            "state2:  (1, 4)\n",
            "state1:  (4,)\n",
            "state2:  (1, 4)\n",
            "state1:  (4,)\n",
            "state2:  (1, 4)\n"
          ]
        },
        {
          "name": "stdout",
          "output_type": "stream",
          "text": [
            "state1:  (4,)\n",
            "state2:  (1, 4)\n",
            "state1:  (4,)\n",
            "state2:  (1, 4)\n",
            "state1:  (4,)\n",
            "state2:  (1, 4)\n",
            "state1:  (4,)\n",
            "state2:  (1, 4)\n",
            "state1:  (4,)\n",
            "state2:  (1, 4)\n",
            "state1:  (4,)\n",
            "state2:  (1, 4)\n",
            "state1:  (4,)\n",
            "state2:  (1, 4)\n",
            "state1:  (4,)\n",
            "state2:  (1, 4)\n",
            "state1:  (4,)\n",
            "state2:  (1, 4)\n",
            "state1:  (4,)\n",
            "state2:  (1, 4)\n",
            "state1:  (4,)\n",
            "state2:  (1, 4)\n",
            "Episode   2: score  26 (exploration rate: 0.94, transitions: 43)\n",
            "Time for training: 0 minutes\n",
            "Score (max): 26.0\n",
            "Score (average last 10 episodes): 21.5\n"
          ]
        },
        {
          "data": {
            "image/png": "[encoded data removed]",
            "text/plain": [
              "<Figure size 640x480 with 1 Axes>"
            ]
          },
          "metadata": {},
          "output_type": "display_data"
        }
      ],
      "source": [
        "environment, number_of_observations, number_of_actions = create_environment()\n",
        "agent = DQN(number_of_observations, number_of_actions)\n",
        "episode = 0\n",
        "start_time = time.perf_counter()\n",
        "while (episode < NUMBER_OF_EPISODES_FOR_TRAINING):\n",
        "    episode += 1\n",
        "    score = 0\n",
        "    state, info = environment.reset()\n",
        "    print(\"state Inicial: \", state)\n",
        "    end_episode = False\n",
        "    while not(end_episode):\n",
        "        # Select an action for the current state\n",
        "        action = agent.select(state)\n",
        "\n",
        "        # Execute the action on the environment\n",
        "        state_next, reward, terminal_state, truncated, info = environment.step(action)\n",
        "\n",
        "        # Store in memory the transition (s,a,r,s')\n",
        "        agent.remember(state, action, reward, state_next, terminal_state)\n",
        "\n",
        "        score += reward\n",
        "\n",
        "        # Learn using a batch of experience stored in memory\n",
        "        agent.learn()\n",
        "\n",
        "        # Detect end of episode\n",
        "        if terminal_state or truncated:\n",
        "            agent.add_score(score)\n",
        "            print(\"Episode {0:>3}: \".format(episode), end = '')\n",
        "            print(\"score {0:>3} \".format(math.trunc(score)), end = '')\n",
        "            print(\"(exploration rate: %.2f, \" % agent.exploration_rate, end = '')\n",
        "            print(\"transitions: \" + str(agent.memory.current_size) + \")\")\n",
        "            end_episode = True\n",
        "        else:\n",
        "            state = state_next\n",
        "\n",
        "print(\"Time for training:\", round((time.perf_counter() - start_time)/60), \"minutes\")\n",
        "print(\"Score (max):\", max(agent.scores))\n",
        "average_score = np.mean(agent.scores[max(0,(len(agent.scores)-10)):(len(agent.scores))])\n",
        "print(\"Score (average last 10 episodes):\", average_score)\n",
        "\n",
        "agent.display_scores_graphically()"
      ]
    },
    {
      "cell_type": "markdown",
      "metadata": {
        "id": "vSteJT6ULQVG"
      },
      "source": [
        "\n",
        "## Testing program\n",
        "\n"
      ]
    },
    {
      "cell_type": "code",
      "execution_count": 48,
      "metadata": {
        "colab": {
          "base_uri": "https://localhost:8080/"
        },
        "id": "gIP0LQHGLZPj",
        "outputId": "906f931f-d01b-4147-f802-e3ea45f44045"
      },
      "outputs": [
        {
          "name": "stdout",
          "output_type": "stream",
          "text": [
            "Episode   1: score   9 \n",
            "Episode   2: score  10 \n",
            "Episode   3: score  10 \n",
            "Episode   4: score  10 \n",
            "Episode   5: score   9 \n",
            "Episode   6: score   9 \n",
            "Episode   7: score   9 \n",
            "Episode   8: score   9 \n",
            "Episode   9: score  10 \n",
            "Episode  10: score  10 \n",
            "Episode  11: score   9 \n",
            "Episode  12: score   9 \n",
            "Episode  13: score  48 \n",
            "Episode  14: score   9 \n",
            "Episode  15: score   9 \n",
            "Episode  16: score   9 \n",
            "Episode  17: score   9 \n",
            "Episode  18: score   9 \n",
            "Episode  19: score  10 \n",
            "Episode  20: score  35 \n",
            "Time for testing: 1 minutes\n",
            "Score (average): 12.55\n",
            "Score (max): 48.0\n"
          ]
        }
      ],
      "source": [
        "agent.delete_scores()\n",
        "episode = 0\n",
        "start_time = time.perf_counter()\n",
        "while (episode < NUMBER_OF_EPISODES_FOR_TESTING):\n",
        "    episode += 1\n",
        "    score = 0\n",
        "    state, info = environment.reset()\n",
        "    end_episode = False\n",
        "    while not(end_episode):\n",
        "        # Select an action for the current state\n",
        "        action = agent.select_greedy_policy(state)\n",
        "\n",
        "        # Execute the action in the environment\n",
        "        state_next, reward, terminal_state, truncated, info = environment.step(action)\n",
        "\n",
        "        score += reward\n",
        "\n",
        "        # Detect end of episode and print\n",
        "        if terminal_state or truncated:\n",
        "            agent.add_score(score)\n",
        "            print(\"Episode {0:>3}: \".format(episode), end = '')\n",
        "            print(\"score {0:>3} \\n\".format(math.trunc(score)), end = '')\n",
        "            end_episode = True\n",
        "        else:\n",
        "            state = state_next\n",
        "\n",
        "print(\"Time for testing:\", round((time.perf_counter() - start_time)/60), \"minutes\")\n",
        "print(\"Score (average):\", np.mean(agent.scores))\n",
        "print(\"Score (max):\", max(agent.scores))"
      ]
    }
  ],
  "metadata": {
    "accelerator": "TPU",
    "colab": {
      "provenance": []
    },
    "kernelspec": {
      "display_name": "Python 3",
      "name": "python3"
    },
    "language_info": {
      "codemirror_mode": {
        "name": "ipython",
        "version": 3
      },
      "file_extension": ".py",
      "mimetype": "text/x-python",
      "name": "python",
      "nbconvert_exporter": "python",
      "pygments_lexer": "ipython3",
      "version": "3.11.6"
    }
  },
  "nbformat": 4,
  "nbformat_minor": 0
}

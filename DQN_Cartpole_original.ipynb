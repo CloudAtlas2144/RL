{
  "cells": [
    {
      "cell_type": "markdown",
      "metadata": {
        "id": "8TT3LPGc5PuK"
      },
      "source": [
        "\n",
        "\n",
        "<p><img height=\"80px\" src=\"https://www.upm.es/sfs/Rectorado/Gabinete%20del%20Rector/Logos/UPM/Escudo/EscUpm.jpg\" align=\"left\" hspace=\"0px\" vspace=\"0px\"></p>\n",
        "\n",
        "**Course \"Artificial Neural Networks and Deep Learning\" - Universidad Politécnica de Madrid (UPM)**\n",
        "\n",
        "# **Deep Q-Learning for Cartpole**\n",
        "\n",
        "This notebook includes an implementation of the Deep Q-learning (DQN) algorithm for the cartpole problem (see [Cartpole documentation](https://gymnasium.farama.org/environments/classic_control/cart_pole/)).\n"
      ]
    },
    {
      "cell_type": "markdown",
      "metadata": {
        "id": "JXBzOdaLAEUn"
      },
      "source": [
        "##Libraries"
      ]
    },
    {
      "cell_type": "code",
      "execution_count": 1,
      "metadata": {},
      "outputs": [],
      "source": [
        "#%pip install \"gymnasium[classic-control]\" "
      ]
    },
    {
      "cell_type": "code",
      "execution_count": 2,
      "metadata": {
        "colab": {
          "base_uri": "https://localhost:8080/"
        },
        "id": "LjLS1WetFhCE",
        "outputId": "0a4dc719-9cc7-4cd2-be7b-04716a4dd123"
      },
      "outputs": [],
      "source": [
        "import gymnasium as gym\n",
        "import numpy as np\n",
        "from tensorflow import keras\n",
        "import matplotlib.pyplot as plt\n",
        "import time\n",
        "import random\n",
        "import math "
      ]
    },
    {
      "cell_type": "markdown",
      "metadata": {
        "id": "nBrRuhN1AQ-s"
      },
      "source": [
        "## Hyperparameters"
      ]
    },
    {
      "cell_type": "code",
      "execution_count": 3,
      "metadata": {
        "id": "4N2yVwtuFlBu"
      },
      "outputs": [],
      "source": [
        "GAMMA = 0.99\n",
        "MEMORY_SIZE = 100000\n",
        "LEARNING_RATE = 0.001 #alpha\n",
        "BATCH_SIZE = 32\n",
        "EXPLORATION_MAX = 1\n",
        "EXPLORATION_MIN = 0.01\n",
        "EXPLORATION_DECAY = 0.995\n",
        "NUMBER_OF_EPISODES_FOR_TRAINING = 120\n",
        "NUMBER_OF_EPISODES_FOR_TESTING = 20"
      ]
    },
    {
      "cell_type": "markdown",
      "metadata": {
        "id": "OoGaas6TAd6p"
      },
      "source": [
        "## Class ReplayMemory\n",
        "\n",
        "Memory of transitions for experience replay."
      ]
    },
    {
      "cell_type": "code",
      "execution_count": 4,
      "metadata": {
        "id": "cQV7IfhFOoSh"
      },
      "outputs": [],
      "source": [
        "class ReplayMemory:\n",
        "\n",
        "    def __init__(self,number_of_observations):\n",
        "        # Create replay memory\n",
        "        self.states = np.zeros((MEMORY_SIZE, number_of_observations))\n",
        "        self.states_next = np.zeros((MEMORY_SIZE, number_of_observations))\n",
        "        self.actions = np.zeros(MEMORY_SIZE, dtype=np.int32)\n",
        "        self.rewards = np.zeros(MEMORY_SIZE)\n",
        "        self.terminal_states = np.zeros(MEMORY_SIZE, dtype=bool)\n",
        "        self.current_size=0\n",
        "\n",
        "    def store_transition(self, state, action, reward, state_next, terminal_state):\n",
        "        # Store a transition (s,a,r,s') in the replay memory\n",
        "        i = self.current_size\n",
        "        self.states[i] = state\n",
        "        self.states_next[i] = state_next\n",
        "        self.actions[i] = action\n",
        "        self.rewards[i] = reward\n",
        "        self.terminal_states[i] = terminal_state\n",
        "        self.current_size = i + 1\n",
        "\n",
        "    def sample_memory(self, batch_size):\n",
        "        # Generate a sample of transitions from the replay memory\n",
        "        batch = np.random.choice(self.current_size, batch_size)\n",
        "        states = self.states[batch]\n",
        "        states_next = self.states_next[batch]\n",
        "        rewards = self.rewards[batch]\n",
        "        actions = self.actions[batch]\n",
        "        terminal_states = self.terminal_states[batch]\n",
        "        return states, actions, rewards, states_next, terminal_states"
      ]
    },
    {
      "cell_type": "markdown",
      "metadata": {
        "id": "gejKO0OYAsS4"
      },
      "source": [
        "## Class DQN\n",
        "\n",
        "Reinforcement learning agent with a Deep Q-Network."
      ]
    },
    {
      "cell_type": "code",
      "execution_count": 5,
      "metadata": {
        "id": "NZ6P4Gj0FtnU"
      },
      "outputs": [],
      "source": [
        "class DQN:\n",
        "\n",
        "    def __init__(self, number_of_observations, number_of_actions):\n",
        "        # Initialize variables and create neural model\n",
        "        self.exploration_rate = EXPLORATION_MAX\n",
        "        self.number_of_actions = number_of_actions\n",
        "        self.number_of_observations = number_of_observations\n",
        "        self.scores = []\n",
        "        self.memory = ReplayMemory(number_of_observations)\n",
        "        self.model = keras.models.Sequential()\n",
        "        self.model.add(keras.layers.Dense(24, input_shape=(number_of_observations,), \\\n",
        "                             activation=\"relu\",kernel_initializer=\"he_normal\"))\n",
        "        self.model.add(keras.layers.Dense(24, activation=\"relu\",kernel_initializer=\"he_normal\"))\n",
        "        self.model.add(keras.layers.Dense(number_of_actions, activation=\"linear\"))\n",
        "        #self.model.compile(loss=\"mse\", optimizer=keras.optimizers.Adam(learning_rate=LEARNING_RATE))\n",
        "        self.model.compile(loss=\"mse\", optimizer=keras.optimizers.legacy.Adam(learning_rate=LEARNING_RATE))\n",
        "\n",
        "    def remember(self, state, action, reward, next_state, terminal_state):\n",
        "        # Store a tuple (s, a, r, s') for experience replay\n",
        "        state = np.reshape(state, [1, self.number_of_observations])\n",
        "        next_state = np.reshape(next_state, [1, self.number_of_observations])\n",
        "        self.memory.store_transition(state, action, reward, next_state, terminal_state)\n",
        "\n",
        "    def select(self, state):\n",
        "        # Generate an action for a given state using epsilon-greedy policy\n",
        "        if np.random.rand() < self.exploration_rate:\n",
        "            return random.randrange(self.number_of_actions)\n",
        "        else:\n",
        "            state = np.reshape(state, [1, self.number_of_observations])\n",
        "            q_values = self.model.predict(state, verbose=0)\n",
        "            return np.argmax(q_values[0])\n",
        "\n",
        "    def select_greedy_policy(self, state):\n",
        "        # Generate an action for a given state using greedy policy\n",
        "        state = np.reshape(state, [1, self.number_of_observations])\n",
        "        q_values = self.model.predict(state, verbose=0)\n",
        "        return np.argmax(q_values[0])\n",
        "\n",
        "    def learn(self):\n",
        "        # Learn the value Q using a sample of examples from the replay memory\n",
        "        if self.memory.current_size < BATCH_SIZE: return\n",
        "\n",
        "        states, actions, rewards, next_states, terminal_states = self.memory.sample_memory(BATCH_SIZE)\n",
        "\n",
        "        q_targets = self.model.predict(states, verbose=0)\n",
        "        q_next_states = self.model.predict(next_states, verbose=0)\n",
        "\n",
        "        for i in range(BATCH_SIZE):\n",
        "             if (terminal_states[i]):\n",
        "                  q_targets[i][actions[i]] = rewards[i]\n",
        "             else:\n",
        "                  q_targets[i][actions[i]] = rewards[i] + GAMMA * np.max(q_next_states[i])\n",
        "\n",
        "        self.model.train_on_batch(states, q_targets)\n",
        "\n",
        "        # Decrease exploration rate\n",
        "        self.exploration_rate *= EXPLORATION_DECAY\n",
        "        self.exploration_rate = max(EXPLORATION_MIN, self.exploration_rate)\n",
        "\n",
        "    def add_score(self, score):\n",
        "       # Add the obtained score to a list to be presented later\n",
        "        self.scores.append(score)\n",
        "\n",
        "    def delete_scores(self):\n",
        "       # Delete the scores\n",
        "        self.scores = []\n",
        "\n",
        "    def display_scores_graphically(self):\n",
        "        # Display the obtained scores graphically\n",
        "        plt.plot(self.scores)\n",
        "        plt.xlabel(\"Episode\")\n",
        "        plt.ylabel(\"Score\")"
      ]
    },
    {
      "cell_type": "markdown",
      "metadata": {
        "id": "d-YSpziT0K9I"
      },
      "source": [
        "## Environment Cartpole\n",
        "\n",
        "<p><img height=\"200px\" src=\"https://raw.githubusercontent.com/martin-molina/reinforcement_learning/main/images/cartpole_attributes.png\" align=\"center\" vspace=\"20px\"</p>\n",
        "\n",
        "State vector:\n",
        "- state[0]: cart position\n",
        "- state[1]: cart velocity\n",
        "- state[2]: pole angle\n",
        "- state[3]: pole angular velocity\n",
        "\n",
        "Actions:\n",
        "- 0 (push cart to the left)\n",
        "- 1 (push cart to the right)"
      ]
    },
    {
      "cell_type": "code",
      "execution_count": 6,
      "metadata": {
        "id": "4LBloUSG0LmT"
      },
      "outputs": [],
      "source": [
        "def create_environment():\n",
        "    # Create simulated environment\n",
        "    environment = gym.make(\"CartPole-v1\")\n",
        "    number_of_observations = environment.observation_space.shape[0]\n",
        "    number_of_actions = environment.action_space.n\n",
        "    return environment, number_of_observations, number_of_actions"
      ]
    },
    {
      "cell_type": "markdown",
      "metadata": {
        "id": "hbbw6blhDcsJ"
      },
      "source": [
        "## Training program\n",
        "\n",
        "\n"
      ]
    },
    {
      "cell_type": "code",
      "execution_count": 7,
      "metadata": {
        "colab": {
          "base_uri": "https://localhost:8080/",
          "height": 1000
        },
        "id": "yuzI0m5u5vVf",
        "outputId": "a7872c2c-0cfd-4979-ee43-14ce73a48b7d"
      },
      "outputs": [
        {
          "name": "stderr",
          "output_type": "stream",
          "text": [
            "2024-01-12 20:36:20.291988: I metal_plugin/src/device/metal_device.cc:1154] Metal device set to: Apple M1\n",
            "2024-01-12 20:36:20.292011: I metal_plugin/src/device/metal_device.cc:296] systemMemory: 16.00 GB\n",
            "2024-01-12 20:36:20.292018: I metal_plugin/src/device/metal_device.cc:313] maxCacheSize: 5.33 GB\n",
            "2024-01-12 20:36:20.292050: I tensorflow/core/common_runtime/pluggable_device/pluggable_device_factory.cc:303] Could not identify NUMA node of platform GPU ID 0, defaulting to 0. Your kernel may not have been built with NUMA support.\n",
            "2024-01-12 20:36:20.292067: I tensorflow/core/common_runtime/pluggable_device/pluggable_device_factory.cc:269] Created TensorFlow device (/job:localhost/replica:0/task:0/device:GPU:0 with 0 MB memory) -> physical PluggableDevice (device: 0, name: METAL, pci bus id: <undefined>)\n",
            "2024-01-12 20:36:20.466082: I tensorflow/core/grappler/optimizers/custom_graph_optimizer_registry.cc:114] Plugin optimizer for device_type GPU is enabled.\n"
          ]
        },
        {
          "name": "stdout",
          "output_type": "stream",
          "text": [
            "Episode   1: score  14 (exploration rate: 1.00, transitions: 14)\n"
          ]
        },
        {
          "name": "stderr",
          "output_type": "stream",
          "text": [
            "2024-01-12 20:36:20.635341: I tensorflow/core/grappler/optimizers/custom_graph_optimizer_registry.cc:114] Plugin optimizer for device_type GPU is enabled.\n"
          ]
        },
        {
          "name": "stdout",
          "output_type": "stream",
          "text": [
            "Episode   2: score  31 (exploration rate: 0.93, transitions: 45)\n"
          ]
        },
        {
          "name": "stderr",
          "output_type": "stream",
          "text": [
            "2024-01-12 20:36:21.834028: I tensorflow/core/grappler/optimizers/custom_graph_optimizer_registry.cc:114] Plugin optimizer for device_type GPU is enabled.\n"
          ]
        },
        {
          "name": "stdout",
          "output_type": "stream",
          "text": [
            "Episode   3: score  15 (exploration rate: 0.86, transitions: 60)\n",
            "Episode   4: score  27 (exploration rate: 0.76, transitions: 87)\n",
            "Episode   5: score  18 (exploration rate: 0.69, transitions: 105)\n",
            "Episode   6: score  28 (exploration rate: 0.60, transitions: 133)\n",
            "Episode   7: score  39 (exploration rate: 0.49, transitions: 172)\n",
            "Episode   8: score  21 (exploration rate: 0.44, transitions: 193)\n",
            "Episode   9: score  10 (exploration rate: 0.42, transitions: 203)\n",
            "Episode  10: score  14 (exploration rate: 0.39, transitions: 217)\n",
            "Episode  11: score   9 (exploration rate: 0.38, transitions: 226)\n",
            "Episode  12: score   9 (exploration rate: 0.36, transitions: 235)\n",
            "Episode  13: score  21 (exploration rate: 0.32, transitions: 256)\n",
            "Episode  14: score  14 (exploration rate: 0.30, transitions: 270)\n",
            "Episode  15: score  13 (exploration rate: 0.28, transitions: 283)\n",
            "Episode  16: score  11 (exploration rate: 0.27, transitions: 294)\n",
            "Episode  17: score  10 (exploration rate: 0.25, transitions: 304)\n",
            "Episode  18: score  16 (exploration rate: 0.23, transitions: 320)\n",
            "Episode  19: score  10 (exploration rate: 0.22, transitions: 330)\n",
            "Episode  20: score   9 (exploration rate: 0.21, transitions: 339)\n",
            "Episode  21: score  14 (exploration rate: 0.20, transitions: 353)\n",
            "Episode  22: score  11 (exploration rate: 0.19, transitions: 364)\n",
            "Episode  23: score  10 (exploration rate: 0.18, transitions: 374)\n",
            "Episode  24: score   9 (exploration rate: 0.17, transitions: 383)\n",
            "Episode  25: score  10 (exploration rate: 0.16, transitions: 393)\n",
            "Episode  26: score  26 (exploration rate: 0.14, transitions: 419)\n",
            "Episode  27: score  10 (exploration rate: 0.14, transitions: 429)\n",
            "Episode  28: score  10 (exploration rate: 0.13, transitions: 439)\n",
            "Episode  29: score   9 (exploration rate: 0.12, transitions: 448)\n",
            "Episode  30: score   9 (exploration rate: 0.12, transitions: 457)\n",
            "Episode  31: score  57 (exploration rate: 0.09, transitions: 514)\n",
            "Episode  32: score  23 (exploration rate: 0.08, transitions: 537)\n",
            "Episode  33: score   9 (exploration rate: 0.08, transitions: 546)\n",
            "Episode  34: score  10 (exploration rate: 0.07, transitions: 556)\n",
            "Episode  35: score   9 (exploration rate: 0.07, transitions: 565)\n",
            "Episode  36: score  10 (exploration rate: 0.07, transitions: 575)\n",
            "Episode  37: score  11 (exploration rate: 0.06, transitions: 586)\n",
            "Episode  38: score  10 (exploration rate: 0.06, transitions: 596)\n",
            "Episode  39: score  14 (exploration rate: 0.05, transitions: 610)\n",
            "Episode  40: score   9 (exploration rate: 0.05, transitions: 619)\n",
            "Episode  41: score   8 (exploration rate: 0.05, transitions: 627)\n",
            "Episode  42: score   8 (exploration rate: 0.05, transitions: 635)\n",
            "Episode  43: score  11 (exploration rate: 0.05, transitions: 646)\n",
            "Episode  44: score   9 (exploration rate: 0.04, transitions: 655)\n",
            "Episode  45: score   9 (exploration rate: 0.04, transitions: 664)\n",
            "Episode  46: score  10 (exploration rate: 0.04, transitions: 674)\n",
            "Episode  47: score  11 (exploration rate: 0.04, transitions: 685)\n",
            "Episode  48: score  46 (exploration rate: 0.03, transitions: 731)\n",
            "Episode  49: score  11 (exploration rate: 0.03, transitions: 742)\n",
            "Episode  50: score  13 (exploration rate: 0.03, transitions: 755)\n",
            "Episode  51: score  61 (exploration rate: 0.02, transitions: 816)\n",
            "Episode  52: score  22 (exploration rate: 0.02, transitions: 838)\n",
            "Episode  53: score  30 (exploration rate: 0.02, transitions: 868)\n",
            "Episode  54: score  18 (exploration rate: 0.01, transitions: 886)\n",
            "Episode  55: score   9 (exploration rate: 0.01, transitions: 895)\n",
            "Episode  56: score  11 (exploration rate: 0.01, transitions: 906)\n",
            "Episode  57: score  11 (exploration rate: 0.01, transitions: 917)\n",
            "Episode  58: score  10 (exploration rate: 0.01, transitions: 927)\n",
            "Episode  59: score   9 (exploration rate: 0.01, transitions: 936)\n",
            "Episode  60: score   9 (exploration rate: 0.01, transitions: 945)\n",
            "Episode  61: score  11 (exploration rate: 0.01, transitions: 956)\n",
            "Episode  62: score  34 (exploration rate: 0.01, transitions: 990)\n",
            "Episode  63: score  16 (exploration rate: 0.01, transitions: 1006)\n",
            "Episode  64: score  65 (exploration rate: 0.01, transitions: 1071)\n",
            "Episode  65: score  12 (exploration rate: 0.01, transitions: 1083)\n",
            "Episode  66: score  48 (exploration rate: 0.01, transitions: 1131)\n",
            "Episode  67: score  18 (exploration rate: 0.01, transitions: 1149)\n",
            "Episode  68: score  23 (exploration rate: 0.01, transitions: 1172)\n",
            "Episode  69: score   8 (exploration rate: 0.01, transitions: 1180)\n",
            "Episode  70: score  11 (exploration rate: 0.01, transitions: 1191)\n",
            "Episode  71: score  23 (exploration rate: 0.01, transitions: 1214)\n",
            "Episode  72: score  12 (exploration rate: 0.01, transitions: 1226)\n",
            "Episode  73: score  37 (exploration rate: 0.01, transitions: 1263)\n",
            "Episode  74: score  64 (exploration rate: 0.01, transitions: 1327)\n",
            "Episode  75: score  17 (exploration rate: 0.01, transitions: 1344)\n",
            "Episode  76: score  22 (exploration rate: 0.01, transitions: 1366)\n",
            "Episode  77: score  13 (exploration rate: 0.01, transitions: 1379)\n",
            "Episode  78: score  28 (exploration rate: 0.01, transitions: 1407)\n",
            "Episode  79: score  14 (exploration rate: 0.01, transitions: 1421)\n",
            "Episode  80: score  10 (exploration rate: 0.01, transitions: 1431)\n",
            "Episode  81: score  10 (exploration rate: 0.01, transitions: 1441)\n",
            "Episode  82: score  34 (exploration rate: 0.01, transitions: 1475)\n",
            "Episode  83: score   9 (exploration rate: 0.01, transitions: 1484)\n",
            "Episode  84: score   8 (exploration rate: 0.01, transitions: 1492)\n",
            "Episode  85: score  10 (exploration rate: 0.01, transitions: 1502)\n",
            "Episode  86: score  12 (exploration rate: 0.01, transitions: 1514)\n",
            "Episode  87: score  18 (exploration rate: 0.01, transitions: 1532)\n",
            "Episode  88: score  10 (exploration rate: 0.01, transitions: 1542)\n",
            "Episode  89: score  10 (exploration rate: 0.01, transitions: 1552)\n",
            "Episode  90: score  16 (exploration rate: 0.01, transitions: 1568)\n",
            "Episode  91: score  13 (exploration rate: 0.01, transitions: 1581)\n",
            "Episode  92: score  10 (exploration rate: 0.01, transitions: 1591)\n",
            "Episode  93: score  11 (exploration rate: 0.01, transitions: 1602)\n",
            "Episode  94: score  18 (exploration rate: 0.01, transitions: 1620)\n",
            "Episode  95: score  10 (exploration rate: 0.01, transitions: 1630)\n",
            "Episode  96: score  10 (exploration rate: 0.01, transitions: 1640)\n",
            "Episode  97: score  17 (exploration rate: 0.01, transitions: 1657)\n",
            "Episode  98: score  10 (exploration rate: 0.01, transitions: 1667)\n",
            "Episode  99: score  10 (exploration rate: 0.01, transitions: 1677)\n",
            "Episode 100: score  11 (exploration rate: 0.01, transitions: 1688)\n",
            "Episode 101: score  10 (exploration rate: 0.01, transitions: 1698)\n",
            "Episode 102: score   9 (exploration rate: 0.01, transitions: 1707)\n",
            "Episode 103: score   9 (exploration rate: 0.01, transitions: 1716)\n",
            "Episode 104: score  10 (exploration rate: 0.01, transitions: 1726)\n",
            "Episode 105: score   8 (exploration rate: 0.01, transitions: 1734)\n",
            "Episode 106: score  11 (exploration rate: 0.01, transitions: 1745)\n",
            "Episode 107: score  11 (exploration rate: 0.01, transitions: 1756)\n",
            "Episode 108: score  19 (exploration rate: 0.01, transitions: 1775)\n",
            "Episode 109: score   9 (exploration rate: 0.01, transitions: 1784)\n",
            "Episode 110: score   8 (exploration rate: 0.01, transitions: 1792)\n",
            "Episode 111: score   8 (exploration rate: 0.01, transitions: 1800)\n",
            "Episode 112: score  25 (exploration rate: 0.01, transitions: 1825)\n",
            "Episode 113: score  11 (exploration rate: 0.01, transitions: 1836)\n",
            "Episode 114: score   9 (exploration rate: 0.01, transitions: 1845)\n",
            "Episode 115: score  23 (exploration rate: 0.01, transitions: 1868)\n",
            "Episode 116: score  10 (exploration rate: 0.01, transitions: 1878)\n",
            "Episode 117: score  21 (exploration rate: 0.01, transitions: 1899)\n",
            "Episode 118: score  43 (exploration rate: 0.01, transitions: 1942)\n",
            "Episode 119: score  21 (exploration rate: 0.01, transitions: 1963)\n",
            "Episode 120: score   9 (exploration rate: 0.01, transitions: 1972)\n",
            "Time for training: 2 minutes\n",
            "Score (max): 65.0\n",
            "Score (average last 10 episodes): 18.0\n"
          ]
        },
        {
          "data": {
            "image/png": "[encoded data removed]",
            "text/plain": [
              "<Figure size 640x480 with 1 Axes>"
            ]
          },
          "metadata": {},
          "output_type": "display_data"
        }
      ],
      "source": [
        "environment, number_of_observations, number_of_actions = create_environment()\n",
        "agent = DQN(number_of_observations, number_of_actions)\n",
        "episode = 0\n",
        "start_time = time.perf_counter()\n",
        "while (episode < NUMBER_OF_EPISODES_FOR_TRAINING):\n",
        "    episode += 1\n",
        "    score = 0\n",
        "    state, info = environment.reset()\n",
        "    end_episode = False\n",
        "    while not(end_episode):\n",
        "        # Select an action for the current state\n",
        "        action = agent.select(state)\n",
        "\n",
        "        # Execute the action on the environment\n",
        "        state_next, reward, terminal_state, truncated, info = environment.step(action)\n",
        "\n",
        "        # Store in memory the transition (s,a,r,s')\n",
        "        agent.remember(state, action, reward, state_next, terminal_state)\n",
        "\n",
        "        score += reward\n",
        "\n",
        "        # Learn using a batch of experience stored in memory\n",
        "        agent.learn()\n",
        "\n",
        "        # Detect end of episode\n",
        "        if terminal_state or truncated:\n",
        "            agent.add_score(score)\n",
        "            print(\"Episode {0:>3}: \".format(episode), end = '')\n",
        "            print(\"score {0:>3} \".format(math.trunc(score)), end = '')\n",
        "            print(\"(exploration rate: %.2f, \" % agent.exploration_rate, end = '')\n",
        "            print(\"transitions: \" + str(agent.memory.current_size) + \")\")\n",
        "            end_episode = True\n",
        "        else:\n",
        "            state = state_next\n",
        "\n",
        "print(\"Time for training:\", round((time.perf_counter() - start_time)/60), \"minutes\")\n",
        "print(\"Score (max):\", max(agent.scores))\n",
        "average_score = np.mean(agent.scores[max(0,(len(agent.scores)-10)):(len(agent.scores))])\n",
        "print(\"Score (average last 10 episodes):\", average_score)\n",
        "\n",
        "agent.display_scores_graphically()"
      ]
    },
    {
      "cell_type": "markdown",
      "metadata": {
        "id": "vSteJT6ULQVG"
      },
      "source": [
        "\n",
        "## Testing program\n",
        "\n"
      ]
    },
    {
      "cell_type": "code",
      "execution_count": 8,
      "metadata": {
        "colab": {
          "base_uri": "https://localhost:8080/"
        },
        "id": "gIP0LQHGLZPj",
        "outputId": "906f931f-d01b-4147-f802-e3ea45f44045"
      },
      "outputs": [
        {
          "name": "stdout",
          "output_type": "stream",
          "text": [
            "Episode   1: score  10 \n",
            "Episode   2: score   9 \n",
            "Episode   3: score   9 \n",
            "Episode   4: score   9 \n",
            "Episode   5: score  10 \n",
            "Episode   6: score   9 \n",
            "Episode   7: score   9 \n",
            "Episode   8: score  10 \n",
            "Episode   9: score   9 \n",
            "Episode  10: score  10 \n",
            "Episode  11: score   9 \n",
            "Episode  12: score  10 \n",
            "Episode  13: score  10 \n",
            "Episode  14: score   8 \n",
            "Episode  15: score  10 \n",
            "Episode  16: score  10 \n",
            "Episode  17: score   9 \n",
            "Episode  18: score   9 \n",
            "Episode  19: score  10 \n",
            "Episode  20: score  11 \n",
            "Time for testing: 0 minutes\n",
            "Score (average): 9.5\n",
            "Score (max): 11.0\n"
          ]
        }
      ],
      "source": [
        "agent.delete_scores()\n",
        "episode = 0\n",
        "start_time = time.perf_counter()\n",
        "while (episode < NUMBER_OF_EPISODES_FOR_TESTING):\n",
        "    episode += 1\n",
        "    score = 0\n",
        "    state, info = environment.reset()\n",
        "    end_episode = False\n",
        "    while not(end_episode):\n",
        "        # Select an action for the current state\n",
        "        action = agent.select_greedy_policy(state)\n",
        "\n",
        "        # Execute the action in the environment\n",
        "        state_next, reward, terminal_state, truncated, info = environment.step(action)\n",
        "\n",
        "        score += reward\n",
        "\n",
        "        # Detect end of episode and print\n",
        "        if terminal_state or truncated:\n",
        "            agent.add_score(score)\n",
        "            print(\"Episode {0:>3}: \".format(episode), end = '')\n",
        "            print(\"score {0:>3} \\n\".format(math.trunc(score)), end = '')\n",
        "            end_episode = True\n",
        "        else:\n",
        "            state = state_next\n",
        "\n",
        "print(\"Time for testing:\", round((time.perf_counter() - start_time)/60), \"minutes\")\n",
        "print(\"Score (average):\", np.mean(agent.scores))\n",
        "print(\"Score (max):\", max(agent.scores))"
      ]
    }
  ],
  "metadata": {
    "accelerator": "TPU",
    "colab": {
      "provenance": []
    },
    "kernelspec": {
      "display_name": "Python 3",
      "name": "python3"
    },
    "language_info": {
      "codemirror_mode": {
        "name": "ipython",
        "version": 3
      },
      "file_extension": ".py",
      "mimetype": "text/x-python",
      "name": "python",
      "nbconvert_exporter": "python",
      "pygments_lexer": "ipython3",
      "version": "3.11.3"
    }
  },
  "nbformat": 4,
  "nbformat_minor": 0
}
